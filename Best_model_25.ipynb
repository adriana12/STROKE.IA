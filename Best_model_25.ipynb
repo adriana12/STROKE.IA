{
  "nbformat": 4,
  "nbformat_minor": 0,
  "metadata": {
    "colab": {
      "provenance": [],
      "authorship_tag": "ABX9TyMgnR3ge55Occ+T9oyePHMs"
    },
    "kernelspec": {
      "name": "python3",
      "display_name": "Python 3"
    },
    "language_info": {
      "name": "python"
    }
  },
  "cells": [
    {
      "cell_type": "code",
      "source": [
        "from sklearn.ensemble import ExtraTreesClassifier\n",
        "import pandas as pd\n",
        "import numpy as np\n",
        "from sklearn.model_selection import train_test_split\n",
        "from sklearn import metrics\n",
        "from sklearn.metrics import accuracy_score, confusion_matrix, classification_report\n",
        "from sklearn.ensemble import RandomForestClassifier\n",
        "from sklearn.model_selection import cross_val_score\n",
        "from sklearn.preprocessing import StandardScaler\n"
      ],
      "metadata": {
        "id": "jTM7cG37rukt"
      },
      "execution_count": null,
      "outputs": []
    },
    {
      "cell_type": "code",
      "source": [
        "# Adicione a sua base nos arquivos\n",
        "nomeDaBase = \"base.csv\"\n",
        "\n",
        "# Nome da sua variável alvo\n",
        "variavelAlvo = 'STRKBASE'\n",
        "\n",
        "# Carrega a base de dados\n",
        "AVC = pd.read_csv(nomeDaBase)\n",
        "AVC.shape"
      ],
      "metadata": {
        "id": "9i7ulGup4KAk"
      },
      "execution_count": null,
      "outputs": []
    },
    {
      "cell_type": "code",
      "source": [
        "AVC[\"STRKBASE\"].value_counts()"
      ],
      "metadata": {
        "colab": {
          "base_uri": "https://localhost:8080/"
        },
        "id": "3IkVHM8Smg_V",
        "outputId": "650b5ecc-ebfb-445a-db23-473b299a4a2e"
      },
      "execution_count": null,
      "outputs": [
        {
          "output_type": "execute_result",
          "data": {
            "text/plain": [
              "0    4882\n",
              "1    4882\n",
              "2    4882\n",
              "Name: STRKBASE, dtype: int64"
            ]
          },
          "metadata": {},
          "execution_count": 3
        }
      ]
    },
    {
      "cell_type": "code",
      "source": [
        "# usamos X para os valores das entradas e y para os valores das saídas(atributo classificador)\n",
        "X = AVC.drop('STRKBASE', axis = 1)\n",
        "y = AVC[\"STRKBASE\"]"
      ],
      "metadata": {
        "id": "IY3FXYK0r159"
      },
      "execution_count": null,
      "outputs": []
    },
    {
      "cell_type": "code",
      "source": [
        "#Definindo o conjunto de treinamento e teste\n",
        "X_train, X_test, y_train, y_test = train_test_split(X, y, test_size=0.3, random_state=0)"
      ],
      "metadata": {
        "id": "4nINA1J_rx-u"
      },
      "execution_count": null,
      "outputs": []
    },
    {
      "cell_type": "code",
      "source": [
        "param_grid = {\n",
        "    #'bootstrap': True, #booleano indicando se as amostras são amostradas com substituição (True) ou sem substituição (False).\n",
        "    #'ccp_alpha': 0.0, # parâmetro de complexidade usado para podar as árvores de decisão no conjunto.\n",
        "    #'class_weight': None, #define o peso das classes. Se não for definido, todas as classes terão o mesmo peso.\n",
        "    'criterion':'entropy', #função usada para medir a qualidade da divisão. 'gini' para o índice Gini e 'entropy' para a entropia.\n",
        "    'max_depth': None, #profundidade máxima de cada árvore. Se não for definido, os nós são expandidos até que todas as folhas contenham menos de min_samples_split amostras.\n",
        "    'max_features': 'sqrt', #número máximo de recursos considerados para dividir um nó. 'auto' usa todas as características, enquanto 'sqrt' e 'log2' usam a raiz quadrada e o logaritmo base 2 do número total de características, respectivamente.\n",
        "    #'max_leaf_nodes': None, #número máximo de folhas nas árvores.\n",
        "    #'max_samples': None, #número máximo de amostras usadas para treinar cada árvore.\n",
        "    #'min_impurity_decrease': 0.0, #valor mínimo de redução de impureza necessária para dividir um nó.\n",
        "    'min_samples_leaf': 10, #número mínimo de amostras necessárias em um nó folha.\n",
        "    'min_samples_split': 2, #número mínimo de amostras necessárias para dividir um nó interno.\n",
        "    #'min_weight_fraction_leaf': 0.0,  #fração mínima do número total de amostras que deve estar em um nó folha.\n",
        "    'n_estimators': 200, #número de árvores na floresta.\n",
        "    'n_jobs': -1, #número de trabalhos a serem executados em paralelo. -1 usa todos os núcleos disponíveis.\n",
        "    #'oob_score': False, #booleano indicando se deve ser calculado o score out-of-bag para cada amostra de treinamento.\n",
        "    'random_state': 42, # semente para gerar números aleatórios.\n",
        "    #'verbose': 0, #nível de detalhe das mensagens de registro\n",
        "    #'warm_start': False #booleano indicando se o ajuste deve ser incremental.\n",
        "}"
      ],
      "metadata": {
        "id": "172aQ0KSilcZ"
      },
      "execution_count": null,
      "outputs": []
    },
    {
      "cell_type": "code",
      "source": [
        "# Criando o modelo com os parâmetros definidos\n",
        "rf = RandomForestClassifier(**param_grid)"
      ],
      "metadata": {
        "id": "i9b5oKHa6-dW"
      },
      "execution_count": null,
      "outputs": []
    },
    {
      "cell_type": "code",
      "source": [
        "# Treinando o modelo com dados de treino\n",
        "rfit = rf.fit(X_train, y_train)"
      ],
      "metadata": {
        "id": "kWkUX_d8IDAv"
      },
      "execution_count": null,
      "outputs": []
    },
    {
      "cell_type": "code",
      "source": [
        "# Fazendo previsões com dados de teste\n",
        "y_pred = rf.predict(X_test)\n",
        "y_pred"
      ],
      "metadata": {
        "colab": {
          "base_uri": "https://localhost:8080/"
        },
        "id": "SUhf6IGUHWYv",
        "outputId": "4c1fab01-76f9-4a37-c630-3493dfb0150b"
      },
      "execution_count": null,
      "outputs": [
        {
          "output_type": "execute_result",
          "data": {
            "text/plain": [
              "array([1, 0, 0, ..., 2, 0, 2])"
            ]
          },
          "metadata": {},
          "execution_count": 10
        }
      ]
    },
    {
      "cell_type": "code",
      "source": [
        "#predição\n",
        "entrada = np.array([0,138,74,0,1,25.50063386895584,0,31,0,0,0,0,0,2,0,0,1,0,0,1,0,0,0,0])\n",
        "entrada = entrada.reshape(1, -1) # redimensiona para 1 linha e n colunas\n",
        "pred = rf.predict(entrada)\n",
        "pred"
      ],
      "metadata": {
        "colab": {
          "base_uri": "https://localhost:8080/"
        },
        "id": "LXZy6QMisD1m",
        "outputId": "dc9ef8af-0a57-4fa3-d2b3-36989910a8cb"
      },
      "execution_count": null,
      "outputs": [
        {
          "output_type": "execute_result",
          "data": {
            "text/plain": [
              "array([0])"
            ]
          },
          "metadata": {},
          "execution_count": 11
        }
      ]
    },
    {
      "cell_type": "markdown",
      "source": [
        "**Métricas**"
      ],
      "metadata": {
        "id": "aKaQvPYqfHe9"
      }
    },
    {
      "cell_type": "code",
      "source": [
        "# Calcular o erro médio quadrático (MSE) da predição\n",
        "from sklearn.metrics import mean_squared_error\n",
        "mse = mean_squared_error(y_test, y_pred)\n",
        "print('Erro de predição:', mse)"
      ],
      "metadata": {
        "colab": {
          "base_uri": "https://localhost:8080/"
        },
        "id": "3a977km9e0xn",
        "outputId": "59fb5b20-bb1a-41a7-e6f3-96fd7b681beb"
      },
      "execution_count": null,
      "outputs": [
        {
          "output_type": "stream",
          "name": "stdout",
          "text": [
            "Erro de predição: 0.28265817023213474\n"
          ]
        }
      ]
    },
    {
      "cell_type": "code",
      "source": [
        "from sklearn.metrics import mean_squared_error\n",
        "from math import sqrt\n",
        "\n",
        "rmse = sqrt(mean_squared_error(y_test, y_pred))\n",
        "rmse"
      ],
      "metadata": {
        "colab": {
          "base_uri": "https://localhost:8080/"
        },
        "id": "JeN9He_hf7pE",
        "outputId": "2b71c2d5-bb55-4b47-84be-52612fb6be4c"
      },
      "execution_count": null,
      "outputs": [
        {
          "output_type": "execute_result",
          "data": {
            "text/plain": [
              "0.5316560638534416"
            ]
          },
          "metadata": {},
          "execution_count": 13
        }
      ]
    },
    {
      "cell_type": "code",
      "source": [
        "#Validação cruzada\n",
        "#Com cv = 10\n",
        "from sklearn.model_selection import cross_val_score\n",
        "scores = cross_val_score(rf, X, y, cv = 10, scoring = 'accuracy')\n",
        "def intervalo(scores):\n",
        "    mean = scores.mean()\n",
        "    dv = scores.std()\n",
        "    print('Acurácia média: {:.2f}%'.format(mean*100))\n",
        "    print('Desvio padrão: {:.5f}%'.format(dv*100))\n",
        "intervalo(scores)"
      ],
      "metadata": {
        "id": "_lynP2z-12xE",
        "colab": {
          "base_uri": "https://localhost:8080/"
        },
        "outputId": "3c263b60-5459-4440-c1fd-c10946ae6626"
      },
      "execution_count": null,
      "outputs": [
        {
          "output_type": "stream",
          "name": "stdout",
          "text": [
            "Acurácia média: 89.43%\n",
            "Desvio padrão: 3.32781%\n"
          ]
        }
      ]
    },
    {
      "cell_type": "code",
      "source": [
        "#F1-score médio\n",
        "#cv = 10\n",
        "scoresf1 = cross_val_score(rf, X, y, cv = 10, scoring = 'f1_micro')\n",
        "def intervalo_prec(scoresf1):\n",
        "    mean = scoresf1.mean()\n",
        "    dv = scoresf1.std()\n",
        "    print('F1-score médio: {:.2f}%'.format(mean*100))\n",
        "intervalo_prec(scoresf1)"
      ],
      "metadata": {
        "colab": {
          "base_uri": "https://localhost:8080/"
        },
        "id": "KDuaGsUD4gws",
        "outputId": "0d907916-fac1-4008-c390-d3be6fdec209"
      },
      "execution_count": null,
      "outputs": [
        {
          "output_type": "stream",
          "name": "stdout",
          "text": [
            "F1-score médio: 89.43%\n"
          ]
        }
      ]
    },
    {
      "cell_type": "code",
      "source": [
        "#precisão média\n",
        "#cv = 10\n",
        "scoresp = cross_val_score(rf, X, y, cv = 10, scoring = 'precision_micro')\n",
        "def intervalo_prec(scores):\n",
        "    mean = scores.mean()\n",
        "    dv = scores.std()\n",
        "    print('Precisão média: {:.2f}%'.format(mean*100))\n",
        "intervalo_prec(scoresp)"
      ],
      "metadata": {
        "id": "3PJ11IIGF2hm",
        "colab": {
          "base_uri": "https://localhost:8080/"
        },
        "outputId": "6952ab3b-68b0-4952-9898-53a93877d91e"
      },
      "execution_count": null,
      "outputs": [
        {
          "output_type": "stream",
          "name": "stdout",
          "text": [
            "Precisão média: 89.43%\n"
          ]
        }
      ]
    },
    {
      "cell_type": "code",
      "source": [
        "#Recall médio\n",
        "#cv = 10\n",
        "scoresr = cross_val_score(rf, X, y, cv = 10, scoring = 'recall_micro')\n",
        "def intervalo_prec(scores):\n",
        "    mean = scores.mean()\n",
        "    print('Recall médio: {:.2f}%'.format(mean*100))\n",
        "intervalo_prec(scoresr)"
      ],
      "metadata": {
        "id": "DSh1788dGXQ-",
        "colab": {
          "base_uri": "https://localhost:8080/"
        },
        "outputId": "432f5ec0-ca0f-439a-cc0f-061da7f02a63"
      },
      "execution_count": null,
      "outputs": [
        {
          "output_type": "stream",
          "name": "stdout",
          "text": [
            "Recall médio: 89.43%\n"
          ]
        }
      ]
    },
    {
      "cell_type": "code",
      "source": [
        "from sklearn.metrics import confusion_matrix\n",
        "cm1=confusion_matrix(y_test, y_pred)"
      ],
      "metadata": {
        "id": "59ZTobz1BP0k"
      },
      "execution_count": null,
      "outputs": []
    },
    {
      "cell_type": "code",
      "source": [
        "#matriz de confusão\n",
        "import seaborn as sns\n",
        "sns.heatmap(cm1,annot=True, fmt=\"d\")"
      ],
      "metadata": {
        "colab": {
          "base_uri": "https://localhost:8080/",
          "height": 282
        },
        "id": "oI6cJJMvLrsA",
        "outputId": "53419811-943c-4794-a313-113c75c4472d"
      },
      "execution_count": null,
      "outputs": [
        {
          "output_type": "execute_result",
          "data": {
            "text/plain": [
              "<Axes: >"
            ]
          },
          "metadata": {},
          "execution_count": 54
        },
        {
          "output_type": "display_data",
          "data": {
            "text/plain": [
              "<Figure size 432x288 with 2 Axes>"
            ],
            "image/png": "[encoded data removed]"
          },
          "metadata": {
            "needs_background": "light"
          }
        }
      ]
    },
    {
      "cell_type": "code",
      "source": [
        "#kappa\n",
        "from sklearn.metrics import confusion_matrix, cohen_kappa_score\n",
        "cohen_kappa_score(y_test, y_pred)"
      ],
      "metadata": {
        "colab": {
          "base_uri": "https://localhost:8080/"
        },
        "id": "jFNEapxjuiPn",
        "outputId": "09cde043-d611-45dc-81d0-4e57b490a45a"
      },
      "execution_count": null,
      "outputs": [
        {
          "output_type": "execute_result",
          "data": {
            "text/plain": [
              "0.8185440181324238"
            ]
          },
          "metadata": {},
          "execution_count": 55
        }
      ]
    },
    {
      "cell_type": "code",
      "source": [
        "#log_loss\n",
        "from sklearn.metrics import log_loss\n",
        "pred = rf.predict_proba(X_test)\n",
        "log_loss(y_test,pred)"
      ],
      "metadata": {
        "id": "b-GMEKC2gPMR",
        "colab": {
          "base_uri": "https://localhost:8080/"
        },
        "outputId": "0bfe098c-d5a9-4bcf-d7f2-1f804a4d1a4e"
      },
      "execution_count": null,
      "outputs": [
        {
          "output_type": "execute_result",
          "data": {
            "text/plain": [
              "0.5518728314418427"
            ]
          },
          "metadata": {},
          "execution_count": 56
        }
      ]
    },
    {
      "cell_type": "code",
      "source": [
        "from sklearn.metrics import roc_auc_score\n",
        "roc_auc_score(y, rf.predict_proba(X), multi_class='ovr', average=\"micro\")"
      ],
      "metadata": {
        "colab": {
          "base_uri": "https://localhost:8080/"
        },
        "id": "162nS7854eQm",
        "outputId": "2c9b1981-09ed-4565-c7f7-43750c8ee48d"
      },
      "execution_count": null,
      "outputs": [
        {
          "output_type": "stream",
          "name": "stderr",
          "text": [
            "/usr/local/lib/python3.9/dist-packages/sklearn/base.py:432: UserWarning: X has feature names, but RandomForestClassifier was fitted without feature names\n",
            "  warnings.warn(\n"
          ]
        },
        {
          "output_type": "execute_result",
          "data": {
            "text/plain": [
              "0.5309664470040454"
            ]
          },
          "metadata": {},
          "execution_count": 25
        }
      ]
    },
    {
      "cell_type": "code",
      "source": [
        "#Curva auc\n",
        "from sklearn.metrics import roc_auc_score\n",
        "y_score = rf.predict_proba(X_test)\n",
        "\n",
        "micro_roc_auc_ovr = roc_auc_score(\n",
        "    y_test,\n",
        "    y_score,\n",
        "    multi_class=\"ovr\",\n",
        "    average=\"micro\",\n",
        ")\n",
        "\n",
        "micro_roc_auc_ovr\n",
        "#print(f\"Micro-averaged One-vs-Rest ROC AUC score:\\n{micro_roc_auc_ovr:.2f}\")"
      ],
      "metadata": {
        "colab": {
          "base_uri": "https://localhost:8080/"
        },
        "id": "sNRBvgaDitgD",
        "outputId": "8653e971-5bca-404d-f4c0-1ae8daaa2468"
      },
      "execution_count": null,
      "outputs": [
        {
          "output_type": "execute_result",
          "data": {
            "text/plain": [
              "0.9667127909971165"
            ]
          },
          "metadata": {},
          "execution_count": 21
        }
      ]
    },
    {
      "cell_type": "code",
      "source": [
        "cr = classification_report(y_test, y_pred,labels=avcclasse)\n",
        "print(cr)"
      ],
      "metadata": {
        "id": "ttsB0CWGLooC",
        "colab": {
          "base_uri": "https://localhost:8080/"
        },
        "outputId": "ea922bb5-5efa-4c1f-b145-cc27de88a0e3"
      },
      "execution_count": null,
      "outputs": [
        {
          "output_type": "stream",
          "name": "stdout",
          "text": [
            "              precision    recall  f1-score   support\n",
            "\n",
            "           0       0.87      0.79      0.83      1417\n",
            "           1       0.88      0.92      0.90      1485\n",
            "           2       0.88      0.92      0.90      1492\n",
            "\n",
            "    accuracy                           0.88      4394\n",
            "   macro avg       0.88      0.88      0.88      4394\n",
            "weighted avg       0.88      0.88      0.88      4394\n",
            "\n"
          ]
        }
      ]
    },
    {
      "cell_type": "markdown",
      "source": [
        "**Curvas**"
      ],
      "metadata": {
        "id": "uWojsVHnfqwX"
      }
    },
    {
      "cell_type": "code",
      "source": [
        "#curva de aprendizagem\n",
        "from mlxtend.plotting import plot_learning_curves\n",
        "import matplotlib.pyplot as plt\n",
        "from mlxtend.data import mnist_data\n",
        "from mlxtend.preprocessing import shuffle_arrays_unison\n",
        "\n",
        "plot_learning_curves(X_train, y_train, X_test, y_test, rfit)\n",
        "plt.show()"
      ],
      "metadata": {
        "id": "Ys8NrffE7ksK"
      },
      "execution_count": null,
      "outputs": []
    },
    {
      "cell_type": "markdown",
      "source": [
        "# **Importância**"
      ],
      "metadata": {
        "id": "4Ok52bxiSR4D"
      }
    },
    {
      "cell_type": "code",
      "source": [
        "feature_names = [f\"feature {i}\" for i in range(X.shape[1])]\n",
        "import time\n",
        "import numpy as np\n",
        "\n",
        "start_time = time.time()\n",
        "importances = rf.feature_importances_\n",
        "std = np.std([tree.feature_importances_ for tree in rf.estimators_], axis=0)\n",
        "elapsed_time = time.time() - start_time\n",
        "print(f\"Elapsed time to compute the importances: {elapsed_time:.3f} seconds\")"
      ],
      "metadata": {
        "colab": {
          "base_uri": "https://localhost:8080/"
        },
        "id": "nFPA_npaSRhE",
        "outputId": "ef68b96e-da2a-49c7-ada1-25d39795deb3"
      },
      "execution_count": null,
      "outputs": [
        {
          "output_type": "stream",
          "name": "stdout",
          "text": [
            "Elapsed time to compute the importances: 0.056 seconds\n"
          ]
        }
      ]
    },
    {
      "cell_type": "code",
      "source": [
        "import pandas as pd\n",
        "#Importancia dos  atributos com os recursos\n",
        "forest_importances = pd.Series(importances, index=feature_names).sort_values(ascending=False)\n",
        "\n",
        "fig, ax = plt.subplots()\n",
        "forest_importances.plot.bar(yerr=std, ax=ax)\n",
        "ax.set_title(\"Feature importances using MDI\")\n",
        "ax.set_ylabel(\"Mean decrease in impurity\")\n",
        "fig.tight_layout()\n",
        "plt.show()"
      ],
      "metadata": {
        "colab": {
          "base_uri": "https://localhost:8080/",
          "height": 401
        },
        "id": "chd-gSy_Smcb",
        "outputId": "755b6d71-d56f-473b-906f-4476933a7e28"
      },
      "execution_count": null,
      "outputs": [
        {
          "output_type": "display_data",
          "data": {
            "text/plain": [
              "<Figure size 576x396 with 1 Axes>"
            ],
            "image/png": "[encoded data removed]"
          },
          "metadata": {}
        }
      ]
    },
    {
      "cell_type": "code",
      "source": [
        "#Importancia dos atributos com permutação\n",
        "from sklearn.inspection import permutation_importance\n",
        "\n",
        "start_time = time.time()\n",
        "result = permutation_importance(\n",
        "    rf, X_test, y_test, n_repeats=10, random_state=42, n_jobs=-1\n",
        ")\n",
        "elapsed_time = time.time() - start_time\n",
        "print(f\"Elapsed time to compute the importances: {elapsed_time:.3f} seconds\")\n",
        "\n",
        "forest_importances = pd.Series(result.importances_mean, index=feature_names).sort_values(ascending=False)"
      ],
      "metadata": {
        "colab": {
          "base_uri": "https://localhost:8080/"
        },
        "id": "Rom_XmzkSury",
        "outputId": "a8b8849a-0ba6-4209-e23c-d639dd0b3dde"
      },
      "execution_count": null,
      "outputs": [
        {
          "output_type": "stream",
          "name": "stdout",
          "text": [
            "Elapsed time to compute the importances: 46.165 seconds\n"
          ]
        }
      ]
    },
    {
      "cell_type": "code",
      "source": [
        "attributes = [\"GEND01\", \"SUPSYS16\", \"SUPDIA16\", \"ATRFIB07\", \"DIABETES\", \"BMI\", \"FHSTK\", \"BEAT14\", \"HEAR01\",\n",
        "              \"NERV01\", \"KIDNEY01\", \"DIAG01\", 'HEART01', \"SMOKE\", 'DIZZYP07', \"NAUSEP07\", \"FATIGP07\",\n",
        "              \"RECOGN08\", \"CHSTPN07\", \"LEGWLK07\", \"PALPIP07\", \"CONVER08\", \"LIFTNG09\", \"WHOME09\", \"STRKBASE\"]"
      ],
      "metadata": {
        "id": "biij1K6TCWT0"
      },
      "execution_count": null,
      "outputs": []
    },
    {
      "cell_type": "code",
      "source": [
        "fig, ax = plt.subplots()\n",
        "forest_importances.plot.bar(yerr=result.importances_std, ax=ax)\n",
        "ax.set_title(\"Feature importances using permutation on full model\")\n",
        "ax.set_ylabel(\"Mean accuracy decrease\")\n",
        "fig.tight_layout()\n",
        "plt.show()"
      ],
      "metadata": {
        "colab": {
          "base_uri": "https://localhost:8080/",
          "height": 401
        },
        "id": "8PknDIhfSyaS",
        "outputId": "0232bc5a-0445-4bbe-ed00-25ae10e7851d"
      },
      "execution_count": null,
      "outputs": [
        {
          "output_type": "display_data",
          "data": {
            "text/plain": [
              "<Figure size 576x396 with 1 Axes>"
            ],
            "image/png": "[encoded data removed]"
          },
          "metadata": {}
        }
      ]
    }
  ]
}