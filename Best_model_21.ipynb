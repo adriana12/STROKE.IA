{
  "nbformat": 4,
  "nbformat_minor": 0,
  "metadata": {
    "colab": {
      "provenance": [],
      "authorship_tag": "ABX9TyOKpG0bqEKCAB06TexWi3iw",
      "include_colab_link": true
    },
    "kernelspec": {
      "name": "python3",
      "display_name": "Python 3"
    },
    "language_info": {
      "name": "python"
    }
  },
  "cells": [
    {
      "cell_type": "markdown",
      "metadata": {
        "id": "view-in-github",
        "colab_type": "text"
      },
      "source": [
        "<a href=\"https://colab.research.google.com/github/adriana12/STROKE.IA/blob/Arquivos_Colab/Best_model_21.ipynb\" target=\"_parent\"><img src=\"https://colab.research.google.com/assets/colab-badge.svg\" alt=\"Open In Colab\"/></a>"
      ]
    },
    {
      "cell_type": "code",
      "source": [
        "from sklearn.ensemble import ExtraTreesClassifier\n",
        "import pandas as pd\n",
        "import numpy as np\n",
        "from sklearn.model_selection import train_test_split\n",
        "from sklearn import metrics\n",
        "from sklearn.metrics import accuracy_score, confusion_matrix, classification_report\n",
        "from sklearn.ensemble import RandomForestClassifier\n",
        "from sklearn.model_selection import cross_val_score\n",
        "from sklearn.preprocessing import StandardScaler\n"
      ],
      "metadata": {
        "id": "jTM7cG37rukt"
      },
      "execution_count": null,
      "outputs": []
    },
    {
      "cell_type": "code",
      "source": [
        "# Adicione a sua base nos arquivos\n",
        "nomeDaBase = \"base.csv\"\n",
        "\n",
        "# Nome da sua variável alvo\n",
        "variavelAlvo = 'STRKBASE'\n",
        "\n",
        "# Carrega a base de dados\n",
        "avc = pd.read_csv(nomeDaBase)\n",
        "avc.shape"
      ],
      "metadata": {
        "colab": {
          "base_uri": "https://localhost:8080/"
        },
        "id": "9i7ulGup4KAk",
        "outputId": "90c92d83-c7b4-4322-98b5-a77bec328d82"
      },
      "execution_count": null,
      "outputs": [
        {
          "output_type": "execute_result",
          "data": {
            "text/plain": [
              "(14646, 25)"
            ]
          },
          "metadata": {},
          "execution_count": 2
        }
      ]
    },
    {
      "cell_type": "code",
      "source": [
        "avc"
      ],
      "metadata": {
        "id": "dYbgICMqnIR9",
        "colab": {
          "base_uri": "https://localhost:8080/",
          "height": 488
        },
        "outputId": "7ca09ea3-d0fd-4796-c666-53494a717a14"
      },
      "execution_count": null,
      "outputs": [
        {
          "output_type": "execute_result",
          "data": {
            "text/plain": [
              "       GEND01  SUPSYS16  SUPDIA16  ATRFIB07  DIABETES        BMI  FHSTK  \\\n",
              "0           0       150        78         0         2  34.500000      0   \n",
              "1           1       116        76         0         1  32.059293      0   \n",
              "2           0       124        64         0         1  20.000000      1   \n",
              "3           1       164        82         0         1  23.678376      0   \n",
              "4           0       156        80         0         3  21.346278      0   \n",
              "...       ...       ...       ...       ...       ...        ...    ...   \n",
              "14641       1       137        75         0         1  21.825815      0   \n",
              "14642       0       133        59         0         2  28.325067      0   \n",
              "14643       0       162        76         0         1  28.259417      0   \n",
              "14644       0       127        50         0         1  25.667093      0   \n",
              "14645       0       146        66         0         2  29.430251      0   \n",
              "\n",
              "       BEAT14  HEAR01  NERV01  ...  NAUSEP07  FATIGP07  RECOGN08  CHSTPN07  \\\n",
              "0          37       0       0  ...         0         0         1         0   \n",
              "1          40       0       0  ...         0         1         1         1   \n",
              "2          30       1       0  ...         0         1         1         1   \n",
              "3          40       1       0  ...         0         0         1         0   \n",
              "4          32       0       0  ...         0         0         1         0   \n",
              "...       ...     ...     ...  ...       ...       ...       ...       ...   \n",
              "14641      31       1       0  ...         0         0         1         1   \n",
              "14642      24       0       0  ...         0         0         1         0   \n",
              "14643      21       0       0  ...         0         0         1         0   \n",
              "14644      30       0       0  ...         0         0         1         0   \n",
              "14645      36       0       0  ...         0         0         1         0   \n",
              "\n",
              "       LEGWLK07  PALPIP07  CONVER08  LIFTNG09  WHOME09  STRKBASE  \n",
              "0             0         1         1         0        0         0  \n",
              "1             1         0         1         0        0         0  \n",
              "2             0         0         1         0        0         0  \n",
              "3             0         0         1         0        0         0  \n",
              "4             0         0         1         1        0         0  \n",
              "...         ...       ...       ...       ...      ...       ...  \n",
              "14641         0         0         0         0        0         2  \n",
              "14642         0         0         0         0        0         2  \n",
              "14643         0         0         1         0        0         2  \n",
              "14644         0         0         0         0        0         2  \n",
              "14645         0         0         1         0        0         2  \n",
              "\n",
              "[14646 rows x 25 columns]"
            ],
            "text/html": [
              "\n",
              "  <div id=\"df-5e207821-910c-4c9b-87b3-3b807fdebebd\">\n",
              "    <div class=\"colab-df-container\">\n",
              "      <div>\n",
              "<style scoped>\n",
              "    .dataframe tbody tr th:only-of-type {\n",
              "        vertical-align: middle;\n",
              "    }\n",
              "\n",
              "    .dataframe tbody tr th {\n",
              "        vertical-align: top;\n",
              "    }\n",
              "\n",
              "    .dataframe thead th {\n",
              "        text-align: right;\n",
              "    }\n",
              "</style>\n",
              "<table border=\"1\" class=\"dataframe\">\n",
              "  <thead>\n",
              "    <tr style=\"text-align: right;\">\n",
              "      <th></th>\n",
              "      <th>GEND01</th>\n",
              "      <th>SUPSYS16</th>\n",
              "      <th>SUPDIA16</th>\n",
              "      <th>ATRFIB07</th>\n",
              "      <th>DIABETES</th>\n",
              "      <th>BMI</th>\n",
              "      <th>FHSTK</th>\n",
              "      <th>BEAT14</th>\n",
              "      <th>HEAR01</th>\n",
              "      <th>NERV01</th>\n",
              "      <th>...</th>\n",
              "      <th>NAUSEP07</th>\n",
              "      <th>FATIGP07</th>\n",
              "      <th>RECOGN08</th>\n",
              "      <th>CHSTPN07</th>\n",
              "      <th>LEGWLK07</th>\n",
              "      <th>PALPIP07</th>\n",
              "      <th>CONVER08</th>\n",
              "      <th>LIFTNG09</th>\n",
              "      <th>WHOME09</th>\n",
              "      <th>STRKBASE</th>\n",
              "    </tr>\n",
              "  </thead>\n",
              "  <tbody>\n",
              "    <tr>\n",
              "      <th>0</th>\n",
              "      <td>0</td>\n",
              "      <td>150</td>\n",
              "      <td>78</td>\n",
              "      <td>0</td>\n",
              "      <td>2</td>\n",
              "      <td>34.500000</td>\n",
              "      <td>0</td>\n",
              "      <td>37</td>\n",
              "      <td>0</td>\n",
              "      <td>0</td>\n",
              "      <td>...</td>\n",
              "      <td>0</td>\n",
              "      <td>0</td>\n",
              "      <td>1</td>\n",
              "      <td>0</td>\n",
              "      <td>0</td>\n",
              "      <td>1</td>\n",
              "      <td>1</td>\n",
              "      <td>0</td>\n",
              "      <td>0</td>\n",
              "      <td>0</td>\n",
              "    </tr>\n",
              "    <tr>\n",
              "      <th>1</th>\n",
              "      <td>1</td>\n",
              "      <td>116</td>\n",
              "      <td>76</td>\n",
              "      <td>0</td>\n",
              "      <td>1</td>\n",
              "      <td>32.059293</td>\n",
              "      <td>0</td>\n",
              "      <td>40</td>\n",
              "      <td>0</td>\n",
              "      <td>0</td>\n",
              "      <td>...</td>\n",
              "      <td>0</td>\n",
              "      <td>1</td>\n",
              "      <td>1</td>\n",
              "      <td>1</td>\n",
              "      <td>1</td>\n",
              "      <td>0</td>\n",
              "      <td>1</td>\n",
              "      <td>0</td>\n",
              "      <td>0</td>\n",
              "      <td>0</td>\n",
              "    </tr>\n",
              "    <tr>\n",
              "      <th>2</th>\n",
              "      <td>0</td>\n",
              "      <td>124</td>\n",
              "      <td>64</td>\n",
              "      <td>0</td>\n",
              "      <td>1</td>\n",
              "      <td>20.000000</td>\n",
              "      <td>1</td>\n",
              "      <td>30</td>\n",
              "      <td>1</td>\n",
              "      <td>0</td>\n",
              "      <td>...</td>\n",
              "      <td>0</td>\n",
              "      <td>1</td>\n",
              "      <td>1</td>\n",
              "      <td>1</td>\n",
              "      <td>0</td>\n",
              "      <td>0</td>\n",
              "      <td>1</td>\n",
              "      <td>0</td>\n",
              "      <td>0</td>\n",
              "      <td>0</td>\n",
              "    </tr>\n",
              "    <tr>\n",
              "      <th>3</th>\n",
              "      <td>1</td>\n",
              "      <td>164</td>\n",
              "      <td>82</td>\n",
              "      <td>0</td>\n",
              "      <td>1</td>\n",
              "      <td>23.678376</td>\n",
              "      <td>0</td>\n",
              "      <td>40</td>\n",
              "      <td>1</td>\n",
              "      <td>0</td>\n",
              "      <td>...</td>\n",
              "      <td>0</td>\n",
              "      <td>0</td>\n",
              "      <td>1</td>\n",
              "      <td>0</td>\n",
              "      <td>0</td>\n",
              "      <td>0</td>\n",
              "      <td>1</td>\n",
              "      <td>0</td>\n",
              "      <td>0</td>\n",
              "      <td>0</td>\n",
              "    </tr>\n",
              "    <tr>\n",
              "      <th>4</th>\n",
              "      <td>0</td>\n",
              "      <td>156</td>\n",
              "      <td>80</td>\n",
              "      <td>0</td>\n",
              "      <td>3</td>\n",
              "      <td>21.346278</td>\n",
              "      <td>0</td>\n",
              "      <td>32</td>\n",
              "      <td>0</td>\n",
              "      <td>0</td>\n",
              "      <td>...</td>\n",
              "      <td>0</td>\n",
              "      <td>0</td>\n",
              "      <td>1</td>\n",
              "      <td>0</td>\n",
              "      <td>0</td>\n",
              "      <td>0</td>\n",
              "      <td>1</td>\n",
              "      <td>1</td>\n",
              "      <td>0</td>\n",
              "      <td>0</td>\n",
              "    </tr>\n",
              "    <tr>\n",
              "      <th>...</th>\n",
              "      <td>...</td>\n",
              "      <td>...</td>\n",
              "      <td>...</td>\n",
              "      <td>...</td>\n",
              "      <td>...</td>\n",
              "      <td>...</td>\n",
              "      <td>...</td>\n",
              "      <td>...</td>\n",
              "      <td>...</td>\n",
              "      <td>...</td>\n",
              "      <td>...</td>\n",
              "      <td>...</td>\n",
              "      <td>...</td>\n",
              "      <td>...</td>\n",
              "      <td>...</td>\n",
              "      <td>...</td>\n",
              "      <td>...</td>\n",
              "      <td>...</td>\n",
              "      <td>...</td>\n",
              "      <td>...</td>\n",
              "      <td>...</td>\n",
              "    </tr>\n",
              "    <tr>\n",
              "      <th>14641</th>\n",
              "      <td>1</td>\n",
              "      <td>137</td>\n",
              "      <td>75</td>\n",
              "      <td>0</td>\n",
              "      <td>1</td>\n",
              "      <td>21.825815</td>\n",
              "      <td>0</td>\n",
              "      <td>31</td>\n",
              "      <td>1</td>\n",
              "      <td>0</td>\n",
              "      <td>...</td>\n",
              "      <td>0</td>\n",
              "      <td>0</td>\n",
              "      <td>1</td>\n",
              "      <td>1</td>\n",
              "      <td>0</td>\n",
              "      <td>0</td>\n",
              "      <td>0</td>\n",
              "      <td>0</td>\n",
              "      <td>0</td>\n",
              "      <td>2</td>\n",
              "    </tr>\n",
              "    <tr>\n",
              "      <th>14642</th>\n",
              "      <td>0</td>\n",
              "      <td>133</td>\n",
              "      <td>59</td>\n",
              "      <td>0</td>\n",
              "      <td>2</td>\n",
              "      <td>28.325067</td>\n",
              "      <td>0</td>\n",
              "      <td>24</td>\n",
              "      <td>0</td>\n",
              "      <td>0</td>\n",
              "      <td>...</td>\n",
              "      <td>0</td>\n",
              "      <td>0</td>\n",
              "      <td>1</td>\n",
              "      <td>0</td>\n",
              "      <td>0</td>\n",
              "      <td>0</td>\n",
              "      <td>0</td>\n",
              "      <td>0</td>\n",
              "      <td>0</td>\n",
              "      <td>2</td>\n",
              "    </tr>\n",
              "    <tr>\n",
              "      <th>14643</th>\n",
              "      <td>0</td>\n",
              "      <td>162</td>\n",
              "      <td>76</td>\n",
              "      <td>0</td>\n",
              "      <td>1</td>\n",
              "      <td>28.259417</td>\n",
              "      <td>0</td>\n",
              "      <td>21</td>\n",
              "      <td>0</td>\n",
              "      <td>0</td>\n",
              "      <td>...</td>\n",
              "      <td>0</td>\n",
              "      <td>0</td>\n",
              "      <td>1</td>\n",
              "      <td>0</td>\n",
              "      <td>0</td>\n",
              "      <td>0</td>\n",
              "      <td>1</td>\n",
              "      <td>0</td>\n",
              "      <td>0</td>\n",
              "      <td>2</td>\n",
              "    </tr>\n",
              "    <tr>\n",
              "      <th>14644</th>\n",
              "      <td>0</td>\n",
              "      <td>127</td>\n",
              "      <td>50</td>\n",
              "      <td>0</td>\n",
              "      <td>1</td>\n",
              "      <td>25.667093</td>\n",
              "      <td>0</td>\n",
              "      <td>30</td>\n",
              "      <td>0</td>\n",
              "      <td>0</td>\n",
              "      <td>...</td>\n",
              "      <td>0</td>\n",
              "      <td>0</td>\n",
              "      <td>1</td>\n",
              "      <td>0</td>\n",
              "      <td>0</td>\n",
              "      <td>0</td>\n",
              "      <td>0</td>\n",
              "      <td>0</td>\n",
              "      <td>0</td>\n",
              "      <td>2</td>\n",
              "    </tr>\n",
              "    <tr>\n",
              "      <th>14645</th>\n",
              "      <td>0</td>\n",
              "      <td>146</td>\n",
              "      <td>66</td>\n",
              "      <td>0</td>\n",
              "      <td>2</td>\n",
              "      <td>29.430251</td>\n",
              "      <td>0</td>\n",
              "      <td>36</td>\n",
              "      <td>0</td>\n",
              "      <td>0</td>\n",
              "      <td>...</td>\n",
              "      <td>0</td>\n",
              "      <td>0</td>\n",
              "      <td>1</td>\n",
              "      <td>0</td>\n",
              "      <td>0</td>\n",
              "      <td>0</td>\n",
              "      <td>1</td>\n",
              "      <td>0</td>\n",
              "      <td>0</td>\n",
              "      <td>2</td>\n",
              "    </tr>\n",
              "  </tbody>\n",
              "</table>\n",
              "<p>14646 rows × 25 columns</p>\n",
              "</div>\n",
              "      <button class=\"colab-df-convert\" onclick=\"convertToInteractive('df-5e207821-910c-4c9b-87b3-3b807fdebebd')\"\n",
              "              title=\"Convert this dataframe to an interactive table.\"\n",
              "              style=\"display:none;\">\n",
              "        \n",
              "  <svg xmlns=\"http://www.w3.org/2000/svg\" height=\"24px\"viewBox=\"0 0 24 24\"\n",
              "       width=\"24px\">\n",
              "    <path d=\"M0 0h24v24H0V0z\" fill=\"none\"/>\n",
              "    <path d=\"M18.56 5.44l.94 2.06.94-2.06 2.06-.94-2.06-.94-.94-2.06-.94 2.06-2.06.94zm-11 1L8.5 8.5l.94-2.06 2.06-.94-2.06-.94L8.5 2.5l-.94 2.06-2.06.94zm10 10l.94 2.06.94-2.06 2.06-.94-2.06-.94-.94-2.06-.94 2.06-2.06.94z\"/><path d=\"M17.41 7.96l-1.37-1.37c-.4-.4-.92-.59-1.43-.59-.52 0-1.04.2-1.43.59L10.3 9.45l-7.72 7.72c-.78.78-.78 2.05 0 2.83L4 21.41c.39.39.9.59 1.41.59.51 0 1.02-.2 1.41-.59l7.78-7.78 2.81-2.81c.8-.78.8-2.07 0-2.86zM5.41 20L4 18.59l7.72-7.72 1.47 1.35L5.41 20z\"/>\n",
              "  </svg>\n",
              "      </button>\n",
              "      \n",
              "  <style>\n",
              "    .colab-df-container {\n",
              "      display:flex;\n",
              "      flex-wrap:wrap;\n",
              "      gap: 12px;\n",
              "    }\n",
              "\n",
              "    .colab-df-convert {\n",
              "      background-color: #E8F0FE;\n",
              "      border: none;\n",
              "      border-radius: 50%;\n",
              "      cursor: pointer;\n",
              "      display: none;\n",
              "      fill: #1967D2;\n",
              "      height: 32px;\n",
              "      padding: 0 0 0 0;\n",
              "      width: 32px;\n",
              "    }\n",
              "\n",
              "    .colab-df-convert:hover {\n",
              "      background-color: #E2EBFA;\n",
              "      box-shadow: 0px 1px 2px rgba(60, 64, 67, 0.3), 0px 1px 3px 1px rgba(60, 64, 67, 0.15);\n",
              "      fill: #174EA6;\n",
              "    }\n",
              "\n",
              "    [theme=dark] .colab-df-convert {\n",
              "      background-color: #3B4455;\n",
              "      fill: #D2E3FC;\n",
              "    }\n",
              "\n",
              "    [theme=dark] .colab-df-convert:hover {\n",
              "      background-color: #434B5C;\n",
              "      box-shadow: 0px 1px 3px 1px rgba(0, 0, 0, 0.15);\n",
              "      filter: drop-shadow(0px 1px 2px rgba(0, 0, 0, 0.3));\n",
              "      fill: #FFFFFF;\n",
              "    }\n",
              "  </style>\n",
              "\n",
              "      <script>\n",
              "        const buttonEl =\n",
              "          document.querySelector('#df-5e207821-910c-4c9b-87b3-3b807fdebebd button.colab-df-convert');\n",
              "        buttonEl.style.display =\n",
              "          google.colab.kernel.accessAllowed ? 'block' : 'none';\n",
              "\n",
              "        async function convertToInteractive(key) {\n",
              "          const element = document.querySelector('#df-5e207821-910c-4c9b-87b3-3b807fdebebd');\n",
              "          const dataTable =\n",
              "            await google.colab.kernel.invokeFunction('convertToInteractive',\n",
              "                                                     [key], {});\n",
              "          if (!dataTable) return;\n",
              "\n",
              "          const docLinkHtml = 'Like what you see? Visit the ' +\n",
              "            '<a target=\"_blank\" href=https://colab.research.google.com/notebooks/data_table.ipynb>data table notebook</a>'\n",
              "            + ' to learn more about interactive tables.';\n",
              "          element.innerHTML = '';\n",
              "          dataTable['output_type'] = 'display_data';\n",
              "          await google.colab.output.renderOutput(dataTable, element);\n",
              "          const docLink = document.createElement('div');\n",
              "          docLink.innerHTML = docLinkHtml;\n",
              "          element.appendChild(docLink);\n",
              "        }\n",
              "      </script>\n",
              "    </div>\n",
              "  </div>\n",
              "  "
            ]
          },
          "metadata": {},
          "execution_count": 3
        }
      ]
    },
    {
      "cell_type": "code",
      "source": [
        "attributes = [\"GEND01\", \"SUPSYS16\", \"SUPDIA16\", \"DIABETES\", \"BMI\", \"FHSTK\", \"BEAT14\", \"HEAR01\",\n",
        "              \"NERV01\", \"DIAG01\", 'HEART01', \"SMOKE\", 'DIZZYP07',  \"FATIGP07\",\n",
        "              \"RECOGN08\", \"CHSTPN07\", \"LEGWLK07\", \"PALPIP07\", \"CONVER08\", \"LIFTNG09\", \"STRKBASE\"]\n",
        "AVC= avc[attributes]\n"
      ],
      "metadata": {
        "id": "xBA5PjJSm1ig"
      },
      "execution_count": null,
      "outputs": []
    },
    {
      "cell_type": "code",
      "source": [
        "AVC['STRKBASE'].value_counts()"
      ],
      "metadata": {
        "id": "-WoCzWIcyYGz",
        "colab": {
          "base_uri": "https://localhost:8080/"
        },
        "outputId": "3d1c0b6c-9d22-4366-85d0-88597510a1f2"
      },
      "execution_count": null,
      "outputs": [
        {
          "output_type": "execute_result",
          "data": {
            "text/plain": [
              "0    4882\n",
              "1    4882\n",
              "2    4882\n",
              "Name: STRKBASE, dtype: int64"
            ]
          },
          "metadata": {},
          "execution_count": 32
        }
      ]
    },
    {
      "cell_type": "code",
      "source": [
        "# usamos X para os valores das entradas e y para os valores das saídas(atributo classificador)\n",
        "X = AVC.drop('STRKBASE', axis = 1)\n",
        "y = AVC[\"STRKBASE\"]"
      ],
      "metadata": {
        "id": "IY3FXYK0r159"
      },
      "execution_count": null,
      "outputs": []
    },
    {
      "cell_type": "code",
      "source": [
        "#Definindo o conjunto de treinamento e teste\n",
        "X_train, X_test, y_train, y_test = train_test_split(X, y, test_size=0.3, random_state=0)"
      ],
      "metadata": {
        "id": "4nINA1J_rx-u"
      },
      "execution_count": null,
      "outputs": []
    },
    {
      "cell_type": "code",
      "source": [
        "param_grid = {\n",
        "    #'bootstrap': True, #booleano indicando se as amostras são amostradas com substituição (True) ou sem substituição (False).\n",
        "    #'ccp_alpha': 0.0, # parâmetro de complexidade usado para podar as árvores de decisão no conjunto.\n",
        "    #'class_weight': None, #define o peso das classes. Se não for definido, todas as classes terão o mesmo peso.\n",
        "    'criterion':'entropy', #função usada para medir a qualidade da divisão. 'gini' para o índice Gini e 'entropy' para a entropia.\n",
        "    'max_depth': None, #profundidade máxima de cada árvore. Se não for definido, os nós são expandidos até que todas as folhas contenham menos de min_samples_split amostras.\n",
        "    'max_features': 'sqrt', #número máximo de recursos considerados para dividir um nó. 'auto' usa todas as características, enquanto 'sqrt' e 'log2' usam a raiz quadrada e o logaritmo base 2 do número total de características, respectivamente.\n",
        "    #'max_leaf_nodes': None, #número máximo de folhas nas árvores.\n",
        "    #'max_samples': None, #número máximo de amostras usadas para treinar cada árvore.\n",
        "    #'min_impurity_decrease': 0.0, #valor mínimo de redução de impureza necessária para dividir um nó.\n",
        "    'min_samples_leaf': 10, #número mínimo de amostras necessárias em um nó folha.\n",
        "    'min_samples_split': 2, #número mínimo de amostras necessárias para dividir um nó interno.\n",
        "    #'min_weight_fraction_leaf': 0.0,  #fração mínima do número total de amostras que deve estar em um nó folha.\n",
        "    'n_estimators': 200, #número de árvores na floresta.\n",
        "    'n_jobs': -1, #número de trabalhos a serem executados em paralelo. -1 usa todos os núcleos disponíveis.\n",
        "    #'oob_score': False, #booleano indicando se deve ser calculado o score out-of-bag para cada amostra de treinamento.\n",
        "    'random_state': 42, # semente para gerar números aleatórios.\n",
        "    #'verbose': 0, #nível de detalhe das mensagens de registro\n",
        "    #'warm_start': False #booleano indicando se o ajuste deve ser incremental.\n",
        "}"
      ],
      "metadata": {
        "id": "172aQ0KSilcZ"
      },
      "execution_count": null,
      "outputs": []
    },
    {
      "cell_type": "code",
      "source": [
        "# Criando o modelo com os parâmetros definidos\n",
        "rf = RandomForestClassifier(**param_grid)"
      ],
      "metadata": {
        "id": "i9b5oKHa6-dW"
      },
      "execution_count": null,
      "outputs": []
    },
    {
      "cell_type": "code",
      "source": [
        "# Treinando o modelo com dados de treino\n",
        "rfit = rf.fit(X_train, y_train)"
      ],
      "metadata": {
        "id": "kWkUX_d8IDAv"
      },
      "execution_count": null,
      "outputs": []
    },
    {
      "cell_type": "code",
      "source": [
        "# Fazendo previsões com dados de teste\n",
        "y_pred = rf.predict(X_test)\n",
        "y_pred"
      ],
      "metadata": {
        "colab": {
          "base_uri": "https://localhost:8080/"
        },
        "id": "SUhf6IGUHWYv",
        "outputId": "8f8791ee-0afb-40de-8ad3-53a1824cc5f4"
      },
      "execution_count": null,
      "outputs": [
        {
          "output_type": "execute_result",
          "data": {
            "text/plain": [
              "array([1, 0, 0, ..., 2, 0, 2])"
            ]
          },
          "metadata": {},
          "execution_count": 30
        }
      ]
    },
    {
      "cell_type": "code",
      "source": [
        "#predição\n",
        "entrada = np.array([1,126,56,1,20.76790843,0,24,0,0,0,0,2,0,1,1,1,0,0,1,0])\n",
        "entrada = entrada.reshape(1, -1) # redimensiona para 1 linha e n colunas\n",
        "pred = rf.predict(entrada)\n",
        "pred"
      ],
      "metadata": {
        "id": "LXZy6QMisD1m",
        "colab": {
          "base_uri": "https://localhost:8080/"
        },
        "outputId": "15ea035a-4642-44eb-b65d-506a91988be9"
      },
      "execution_count": null,
      "outputs": [
        {
          "output_type": "stream",
          "name": "stderr",
          "text": [
            "/usr/local/lib/python3.10/dist-packages/sklearn/base.py:439: UserWarning: X does not have valid feature names, but RandomForestClassifier was fitted with feature names\n",
            "  warnings.warn(\n"
          ]
        },
        {
          "output_type": "execute_result",
          "data": {
            "text/plain": [
              "array([1])"
            ]
          },
          "metadata": {},
          "execution_count": 31
        }
      ]
    },
    {
      "cell_type": "markdown",
      "source": [
        "**Métricas**"
      ],
      "metadata": {
        "id": "aKaQvPYqfHe9"
      }
    },
    {
      "cell_type": "code",
      "source": [
        "# Calcular o erro médio quadrático (MSE) da predição\n",
        "from sklearn.metrics import mean_squared_error\n",
        "mse = mean_squared_error(y_test, y_pred)\n",
        "print('Erro de predição:', mse)"
      ],
      "metadata": {
        "colab": {
          "base_uri": "https://localhost:8080/"
        },
        "id": "3a977km9e0xn",
        "outputId": "1d48baa9-89fd-417e-f562-fa5b4dd327d6"
      },
      "execution_count": null,
      "outputs": [
        {
          "output_type": "stream",
          "name": "stdout",
          "text": [
            "Erro de predição: 0.24806554392353208\n"
          ]
        }
      ]
    },
    {
      "cell_type": "code",
      "source": [
        "from sklearn.metrics import mean_squared_error\n",
        "from math import sqrt\n",
        "\n",
        "rmse = sqrt(mean_squared_error(y_test, y_pred))\n",
        "rmse"
      ],
      "metadata": {
        "colab": {
          "base_uri": "https://localhost:8080/"
        },
        "id": "JeN9He_hf7pE",
        "outputId": "f0affb8a-d131-4680-aebe-d7ee6c767243"
      },
      "execution_count": null,
      "outputs": [
        {
          "output_type": "execute_result",
          "data": {
            "text/plain": [
              "0.49806178725488676"
            ]
          },
          "metadata": {},
          "execution_count": 37
        }
      ]
    },
    {
      "cell_type": "code",
      "source": [
        "#Validação cruzada\n",
        "#Com cv = 10\n",
        "from sklearn.model_selection import cross_val_score\n",
        "scores = cross_val_score(rf, X, y, cv = 10, scoring = 'accuracy')\n",
        "def intervalo(scores):\n",
        "    mean = scores.mean()\n",
        "    dv = scores.std()\n",
        "    print('Acurácia média: {:.2f}%'.format(mean*100))\n",
        "    print('Desvio padrão: {:.5f}%'.format(dv*100))\n",
        "intervalo(scores)"
      ],
      "metadata": {
        "id": "_lynP2z-12xE",
        "colab": {
          "base_uri": "https://localhost:8080/"
        },
        "outputId": "5fbc3ce1-639e-46b5-e329-0c6d1f965ad8"
      },
      "execution_count": null,
      "outputs": [
        {
          "output_type": "stream",
          "name": "stdout",
          "text": [
            "Acurácia média: 90.74%\n",
            "Desvio padrão: 3.02877%\n"
          ]
        }
      ]
    },
    {
      "cell_type": "code",
      "source": [
        "#F1-score médio\n",
        "#cv = 10\n",
        "scoresf1 = cross_val_score(rf, X, y, cv = 10, scoring = 'f1_micro')\n",
        "def intervalo_prec(scoresf1):\n",
        "    mean = scoresf1.mean()\n",
        "    dv = scoresf1.std()\n",
        "    print('F1-score médio: {:.2f}%'.format(mean*100))\n",
        "intervalo_prec(scoresf1)"
      ],
      "metadata": {
        "colab": {
          "base_uri": "https://localhost:8080/"
        },
        "id": "KDuaGsUD4gws",
        "outputId": "6b0752f5-f4bb-47e5-fd27-80dff41addd6"
      },
      "execution_count": null,
      "outputs": [
        {
          "output_type": "stream",
          "name": "stdout",
          "text": [
            "F1-score médio: 90.74%\n"
          ]
        }
      ]
    },
    {
      "cell_type": "code",
      "source": [
        "#precisão média\n",
        "#cv = 10\n",
        "scoresp = cross_val_score(rf, X, y, cv = 10, scoring = 'precision_micro')\n",
        "def intervalo_prec(scores):\n",
        "    mean = scores.mean()\n",
        "    dv = scores.std()\n",
        "    print('Precisão média: {:.2f}%'.format(mean*100))\n",
        "intervalo_prec(scoresp)"
      ],
      "metadata": {
        "id": "3PJ11IIGF2hm",
        "colab": {
          "base_uri": "https://localhost:8080/"
        },
        "outputId": "8173e6b9-f9f0-43e1-8d3d-424fb4d917b7"
      },
      "execution_count": null,
      "outputs": [
        {
          "output_type": "stream",
          "name": "stdout",
          "text": [
            "Precisão média: 90.74%\n"
          ]
        }
      ]
    },
    {
      "cell_type": "code",
      "source": [
        "#Recall médio\n",
        "#cv = 10\n",
        "scoresr = cross_val_score(rf, X, y, cv = 10, scoring = 'recall_micro')\n",
        "def intervalo_prec(scores):\n",
        "    mean = scores.mean()\n",
        "    print('Recall médio: {:.2f}%'.format(mean*100))\n",
        "intervalo_prec(scoresr)"
      ],
      "metadata": {
        "id": "DSh1788dGXQ-",
        "colab": {
          "base_uri": "https://localhost:8080/"
        },
        "outputId": "c638b868-8f20-4d33-bd7f-7fdbe41fae45"
      },
      "execution_count": null,
      "outputs": [
        {
          "output_type": "stream",
          "name": "stdout",
          "text": [
            "Recall médio: 90.74%\n"
          ]
        }
      ]
    },
    {
      "cell_type": "code",
      "source": [
        "from sklearn.metrics import confusion_matrix\n",
        "cm1=confusion_matrix(y_test, y_pred)"
      ],
      "metadata": {
        "id": "59ZTobz1BP0k"
      },
      "execution_count": null,
      "outputs": []
    },
    {
      "cell_type": "code",
      "source": [
        "#matriz de confusão\n",
        "import seaborn as sns\n",
        "sns.heatmap(cm1,annot=True, fmt=\"d\")"
      ],
      "metadata": {
        "colab": {
          "base_uri": "https://localhost:8080/",
          "height": 285
        },
        "id": "oI6cJJMvLrsA",
        "outputId": "3dfd2c2d-51cf-4a77-c733-f7fe2e5b8f11"
      },
      "execution_count": null,
      "outputs": [
        {
          "output_type": "execute_result",
          "data": {
            "text/plain": [
              "<Axes: >"
            ]
          },
          "metadata": {},
          "execution_count": 43
        },
        {
          "output_type": "display_data",
          "data": {
            "text/plain": [
              "<Figure size 432x288 with 2 Axes>"
            ],
            "image/png": "[encoded data removed]"
          },
          "metadata": {
            "needs_background": "light"
          }
        }
      ]
    },
    {
      "cell_type": "code",
      "source": [
        "#kappa\n",
        "from sklearn.metrics import confusion_matrix, cohen_kappa_score\n",
        "cohen_kappa_score(y_test, y_pred)"
      ],
      "metadata": {
        "colab": {
          "base_uri": "https://localhost:8080/"
        },
        "id": "jFNEapxjuiPn",
        "outputId": "404ee3fa-5012-4fe6-924e-927d616e86e6"
      },
      "execution_count": null,
      "outputs": [
        {
          "output_type": "execute_result",
          "data": {
            "text/plain": [
              "0.8386982671540117"
            ]
          },
          "metadata": {},
          "execution_count": 44
        }
      ]
    },
    {
      "cell_type": "code",
      "source": [
        "#log_loss\n",
        "from sklearn.metrics import log_loss\n",
        "pred = rf.predict_proba(X_test)\n",
        "log_loss(y_test,pred)"
      ],
      "metadata": {
        "id": "b-GMEKC2gPMR",
        "colab": {
          "base_uri": "https://localhost:8080/"
        },
        "outputId": "057fd3fb-b8e1-4de9-d468-6375eab042ff"
      },
      "execution_count": null,
      "outputs": [
        {
          "output_type": "execute_result",
          "data": {
            "text/plain": [
              "0.5032739169931082"
            ]
          },
          "metadata": {},
          "execution_count": 45
        }
      ]
    },
    {
      "cell_type": "code",
      "source": [
        "#Curva auc\n",
        "from sklearn.metrics import roc_auc_score\n",
        "y_score = rfit.predict_proba(X_test)\n",
        "\n",
        "micro_roc_auc_ovr = roc_auc_score(\n",
        "    y_test,\n",
        "    y_score,\n",
        "    multi_class=\"ovr\",\n",
        "    average=\"micro\",\n",
        ")\n",
        "\n",
        "print(f\"Micro-averaged One-vs-Rest ROC AUC score:\\n{micro_roc_auc_ovr}\")"
      ],
      "metadata": {
        "colab": {
          "base_uri": "https://localhost:8080/"
        },
        "id": "sNRBvgaDitgD",
        "outputId": "4b488160-492a-48bd-a971-3a5ee9bf60c7"
      },
      "execution_count": null,
      "outputs": [
        {
          "output_type": "stream",
          "name": "stdout",
          "text": [
            "Micro-averaged One-vs-Rest ROC AUC score:\n",
            "0.9722134747822009\n"
          ]
        }
      ]
    },
    {
      "cell_type": "code",
      "source": [
        "avcclasse = AVC['STRKBASE'].unique()"
      ],
      "metadata": {
        "id": "YFyAGyWGMegB"
      },
      "execution_count": null,
      "outputs": []
    },
    {
      "cell_type": "code",
      "source": [
        "n_classes = len(avcclasse)"
      ],
      "metadata": {
        "id": "3I8wojgOO1ZA"
      },
      "execution_count": null,
      "outputs": []
    },
    {
      "cell_type": "code",
      "source": [
        "cr = classification_report(y_test, y_pred,labels=avcclasse)\n",
        "print(cr)"
      ],
      "metadata": {
        "id": "ttsB0CWGLooC",
        "colab": {
          "base_uri": "https://localhost:8080/"
        },
        "outputId": "5078f1a3-0281-4095-cd44-c5310a4b7e57"
      },
      "execution_count": null,
      "outputs": [
        {
          "output_type": "stream",
          "name": "stdout",
          "text": [
            "              precision    recall  f1-score   support\n",
            "\n",
            "           0       0.89      0.80      0.84      1417\n",
            "           1       0.89      0.93      0.91      1485\n",
            "           2       0.89      0.94      0.92      1492\n",
            "\n",
            "    accuracy                           0.89      4394\n",
            "   macro avg       0.89      0.89      0.89      4394\n",
            "weighted avg       0.89      0.89      0.89      4394\n",
            "\n"
          ]
        }
      ]
    },
    {
      "cell_type": "markdown",
      "source": [
        "**Curvas**"
      ],
      "metadata": {
        "id": "uWojsVHnfqwX"
      }
    },
    {
      "cell_type": "code",
      "source": [
        "#curva de aprendizagem\n",
        "from mlxtend.plotting import plot_learning_curves\n",
        "import matplotlib.pyplot as plt\n",
        "from mlxtend.data import mnist_data\n",
        "from mlxtend.preprocessing import shuffle_arrays_unison\n",
        "\n",
        "plot_learning_curves(X_train, y_train, X_test, y_test, rfit)\n",
        "plt.show()"
      ],
      "metadata": {
        "colab": {
          "base_uri": "https://localhost:8080/",
          "height": 415
        },
        "id": "Ys8NrffE7ksK",
        "outputId": "0396c758-e258-4287-e41e-9074e406b71a"
      },
      "execution_count": null,
      "outputs": [
        {
          "output_type": "display_data",
          "data": {
            "text/plain": [
              "<Figure size 432x288 with 1 Axes>"
            ],
            "image/png": "[encoded data removed]"
          },
          "metadata": {}
        }
      ]
    },
    {
      "cell_type": "code",
      "source": [
        "#salvando base pré processada\n",
        "write = pd.ExcelWriter('avc_basefinal.xlsx')\n",
        "AVC.to_excel(write, 'novosdados', index = False)\n",
        "write.save()"
      ],
      "metadata": {
        "id": "xeBC-MGRxLIG"
      },
      "execution_count": null,
      "outputs": []
    }
  ]
}