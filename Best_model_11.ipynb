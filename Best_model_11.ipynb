{
  "nbformat": 4,
  "nbformat_minor": 0,
  "metadata": {
    "colab": {
      "provenance": [],
      "authorship_tag": "ABX9TyPHDdsUPnEcg4V596W0AjqI",
      "include_colab_link": true
    },
    "kernelspec": {
      "name": "python3",
      "display_name": "Python 3"
    },
    "language_info": {
      "name": "python"
    }
  },
  "cells": [
    {
      "cell_type": "markdown",
      "metadata": {
        "id": "view-in-github",
        "colab_type": "text"
      },
      "source": [
        "<a href=\"https://colab.research.google.com/github/adriana12/STROKE.IA/blob/Arquivos_Colab/Best_model_11.ipynb\" target=\"_parent\"><img src=\"https://colab.research.google.com/assets/colab-badge.svg\" alt=\"Open In Colab\"/></a>"
      ]
    },
    {
      "cell_type": "code",
      "source": [
        "from sklearn.ensemble import ExtraTreesClassifier\n",
        "import pandas as pd\n",
        "import numpy as np\n",
        "from sklearn.model_selection import train_test_split\n",
        "from sklearn import metrics\n",
        "from sklearn.metrics import accuracy_score, confusion_matrix, classification_report\n",
        "from sklearn.ensemble import RandomForestClassifier\n",
        "from sklearn.model_selection import cross_val_score\n",
        "from sklearn.preprocessing import StandardScaler\n"
      ],
      "metadata": {
        "id": "jTM7cG37rukt"
      },
      "execution_count": null,
      "outputs": []
    },
    {
      "cell_type": "code",
      "source": [
        "# Adicione a sua base nos arquivos\n",
        "nomeDaBase = \"base.csv\"\n",
        "\n",
        "# Nome da sua variável alvo\n",
        "variavelAlvo = 'STRKBASE'\n",
        "\n",
        "# Carrega a base de dados\n",
        "avc = pd.read_csv(nomeDaBase)\n",
        "avc.shape"
      ],
      "metadata": {
        "colab": {
          "base_uri": "https://localhost:8080/"
        },
        "id": "9i7ulGup4KAk",
        "outputId": "8df3afe9-7617-42c9-e10d-bace3fc915f1"
      },
      "execution_count": null,
      "outputs": [
        {
          "output_type": "execute_result",
          "data": {
            "text/plain": [
              "(14646, 25)"
            ]
          },
          "metadata": {},
          "execution_count": 2
        }
      ]
    },
    {
      "cell_type": "code",
      "source": [
        "avc"
      ],
      "metadata": {
        "id": "dYbgICMqnIR9"
      },
      "execution_count": null,
      "outputs": []
    },
    {
      "cell_type": "code",
      "source": [
        "attributes = [\"SUPSYS16\", \"SUPDIA16\", \"DIABETES\", \"BMI\", \"FHSTK\", \"HEAR01\",\n",
        "              \"DIAG01\", \"FATIGP07\", \"CHSTPN07\",  \"CONVER08\", \"STRKBASE\"]\n",
        "AVC= avc[attributes]"
      ],
      "metadata": {
        "id": "xBA5PjJSm1ig"
      },
      "execution_count": null,
      "outputs": []
    },
    {
      "cell_type": "code",
      "source": [
        "# usamos X para os valores das entradas e y para os valores das saídas(atributo classificador)\n",
        "X = AVC.drop('STRKBASE', axis = 1)\n",
        "y = AVC[\"STRKBASE\"]"
      ],
      "metadata": {
        "id": "IY3FXYK0r159"
      },
      "execution_count": null,
      "outputs": []
    },
    {
      "cell_type": "code",
      "source": [
        "#Definindo o conjunto de treinamento e teste\n",
        "X_train, X_test, y_train, y_test = train_test_split(X, y, test_size=0.3, random_state=0)"
      ],
      "metadata": {
        "id": "4nINA1J_rx-u"
      },
      "execution_count": null,
      "outputs": []
    },
    {
      "cell_type": "code",
      "source": [
        "#normalização\n",
        "scaler = StandardScaler()\n",
        "X_train = scaler.fit_transform(X_train)\n",
        "X_test = scaler.transform(X_test)"
      ],
      "metadata": {
        "id": "baf-YGPA9bC9"
      },
      "execution_count": null,
      "outputs": []
    },
    {
      "cell_type": "code",
      "source": [
        "param_grid = {\n",
        "    #'bootstrap': True, #booleano indicando se as amostras são amostradas com substituição (True) ou sem substituição (False).\n",
        "    #'ccp_alpha': 0.0, # parâmetro de complexidade usado para podar as árvores de decisão no conjunto.\n",
        "    #'class_weight': None, #define o peso das classes. Se não for definido, todas as classes terão o mesmo peso.\n",
        "    'criterion':'entropy', #função usada para medir a qualidade da divisão. 'gini' para o índice Gini e 'entropy' para a entropia.\n",
        "    'max_depth': None, #profundidade máxima de cada árvore. Se não for definido, os nós são expandidos até que todas as folhas contenham menos de min_samples_split amostras.\n",
        "    'max_features': 'sqrt', #número máximo de recursos considerados para dividir um nó. 'auto' usa todas as características, enquanto 'sqrt' e 'log2' usam a raiz quadrada e o logaritmo base 2 do número total de características, respectivamente.\n",
        "    #'max_leaf_nodes': None, #número máximo de folhas nas árvores.\n",
        "    #'max_samples': None, #número máximo de amostras usadas para treinar cada árvore.\n",
        "    #'min_impurity_decrease': 0.0, #valor mínimo de redução de impureza necessária para dividir um nó.\n",
        "    'min_samples_leaf': 10, #número mínimo de amostras necessárias em um nó folha.\n",
        "    'min_samples_split': 2, #número mínimo de amostras necessárias para dividir um nó interno.\n",
        "    #'min_weight_fraction_leaf': 0.0,  #fração mínima do número total de amostras que deve estar em um nó folha.\n",
        "    'n_estimators': 200, #número de árvores na floresta.\n",
        "    'n_jobs': -1, #número de trabalhos a serem executados em paralelo. -1 usa todos os núcleos disponíveis.\n",
        "    #'oob_score': False, #booleano indicando se deve ser calculado o score out-of-bag para cada amostra de treinamento.\n",
        "    'random_state': 42, # semente para gerar números aleatórios.\n",
        "    #'verbose': 0, #nível de detalhe das mensagens de registro\n",
        "    #'warm_start': False #booleano indicando se o ajuste deve ser incremental.\n",
        "}"
      ],
      "metadata": {
        "id": "172aQ0KSilcZ"
      },
      "execution_count": null,
      "outputs": []
    },
    {
      "cell_type": "code",
      "source": [
        "# Criando o modelo com os parâmetros definidos\n",
        "rf = RandomForestClassifier(**param_grid)"
      ],
      "metadata": {
        "id": "i9b5oKHa6-dW"
      },
      "execution_count": null,
      "outputs": []
    },
    {
      "cell_type": "code",
      "source": [
        "# Treinando o modelo com dados de treino\n",
        "rfit = rf.fit(X_train, y_train)"
      ],
      "metadata": {
        "id": "kWkUX_d8IDAv"
      },
      "execution_count": null,
      "outputs": []
    },
    {
      "cell_type": "code",
      "source": [
        "# Fazendo previsões com dados de teste\n",
        "y_pred = rf.predict(X_test)\n",
        "y_pred"
      ],
      "metadata": {
        "colab": {
          "base_uri": "https://localhost:8080/"
        },
        "id": "SUhf6IGUHWYv",
        "outputId": "1076e44d-22f7-44de-a879-ae3c82606529"
      },
      "execution_count": null,
      "outputs": [
        {
          "output_type": "execute_result",
          "data": {
            "text/plain": [
              "array([1, 0, 0, ..., 2, 0, 2])"
            ]
          },
          "metadata": {},
          "execution_count": 10
        }
      ]
    },
    {
      "cell_type": "code",
      "source": [
        "#predição\n",
        "entrada = np.array([138,74,1,25.50063386895584,31,0,0,0,0,1,0])\n",
        "entrada = entrada.reshape(1, -1) # redimensiona para 1 linha e n colunas\n",
        "pred = rf.predict(entrada)\n",
        "pred"
      ],
      "metadata": {
        "colab": {
          "base_uri": "https://localhost:8080/"
        },
        "id": "LXZy6QMisD1m",
        "outputId": "1bfe927d-f762-47ce-bb38-d91ac05de003"
      },
      "execution_count": null,
      "outputs": [
        {
          "output_type": "execute_result",
          "data": {
            "text/plain": [
              "array([0])"
            ]
          },
          "metadata": {},
          "execution_count": 17
        }
      ]
    },
    {
      "cell_type": "markdown",
      "source": [
        "**Métricas**"
      ],
      "metadata": {
        "id": "aKaQvPYqfHe9"
      }
    },
    {
      "cell_type": "code",
      "source": [
        "# Calcular o erro médio quadrático (MSE) da predição\n",
        "from sklearn.metrics import mean_squared_error\n",
        "mse = mean_squared_error(y_test, y_pred)\n",
        "print('Erro de predição:', mse)"
      ],
      "metadata": {
        "colab": {
          "base_uri": "https://localhost:8080/"
        },
        "id": "3a977km9e0xn",
        "outputId": "70247cdc-53c5-421e-95b0-28de7ba86e40"
      },
      "execution_count": null,
      "outputs": [
        {
          "output_type": "stream",
          "name": "stdout",
          "text": [
            "Erro de predição: 0.29153390987710515\n"
          ]
        }
      ]
    },
    {
      "cell_type": "code",
      "source": [
        "from sklearn.metrics import mean_squared_error\n",
        "from math import sqrt\n",
        "\n",
        "rmse = sqrt(mean_squared_error(y_test, y_pred))\n",
        "rmse"
      ],
      "metadata": {
        "colab": {
          "base_uri": "https://localhost:8080/"
        },
        "id": "JeN9He_hf7pE",
        "outputId": "8cda28b6-cc40-4bb1-dcfd-7affcd545645"
      },
      "execution_count": null,
      "outputs": [
        {
          "output_type": "execute_result",
          "data": {
            "text/plain": [
              "0.5399388019739877"
            ]
          },
          "metadata": {},
          "execution_count": 19
        }
      ]
    },
    {
      "cell_type": "code",
      "source": [
        "#Validação cruzada\n",
        "#Com cv = 10\n",
        "from sklearn.model_selection import cross_val_score\n",
        "scores = cross_val_score(rf, X, y, cv = 10, scoring = 'accuracy')\n",
        "def intervalo(scores):\n",
        "    mean = scores.mean()\n",
        "    dv = scores.std()\n",
        "    print('Acurácia média: {:.2f}%'.format(mean*100))\n",
        "    print('Desvio padrão: {:.5f}%'.format(dv*100))\n",
        "intervalo(scores)"
      ],
      "metadata": {
        "id": "_lynP2z-12xE",
        "colab": {
          "base_uri": "https://localhost:8080/"
        },
        "outputId": "f4f4c5ed-ea33-460e-8a88-08f5837c1ad9"
      },
      "execution_count": null,
      "outputs": [
        {
          "output_type": "stream",
          "name": "stdout",
          "text": [
            "Acurácia média: 88.94%\n",
            "Desvio padrão: 2.52587%\n"
          ]
        }
      ]
    },
    {
      "cell_type": "code",
      "source": [
        "#F1-score médio\n",
        "#cv = 10\n",
        "scoresf1 = cross_val_score(rf, X, y, cv = 10, scoring = 'f1_micro')\n",
        "def intervalo_prec(scoresf1):\n",
        "    mean = scoresf1.mean()\n",
        "    dv = scoresf1.std()\n",
        "    print('F1-score médio: {:.2f}%'.format(mean*100))\n",
        "intervalo_prec(scoresf1)"
      ],
      "metadata": {
        "colab": {
          "base_uri": "https://localhost:8080/"
        },
        "id": "KDuaGsUD4gws",
        "outputId": "6057c25c-8797-4a0a-f859-7acffe8958aa"
      },
      "execution_count": null,
      "outputs": [
        {
          "output_type": "stream",
          "name": "stdout",
          "text": [
            "F1-score médio: 88.94%\n"
          ]
        }
      ]
    },
    {
      "cell_type": "code",
      "source": [
        "#precisão média\n",
        "#cv = 10\n",
        "scoresp = cross_val_score(rf, X, y, cv = 10, scoring = 'precision_micro')\n",
        "def intervalo_prec(scores):\n",
        "    mean = scores.mean()\n",
        "    dv = scores.std()\n",
        "    print('Precisão média: {:.2f}%'.format(mean*100))\n",
        "intervalo_prec(scoresp)"
      ],
      "metadata": {
        "id": "3PJ11IIGF2hm",
        "colab": {
          "base_uri": "https://localhost:8080/"
        },
        "outputId": "8e1c3848-9224-4638-8f5e-5c0697907f46"
      },
      "execution_count": null,
      "outputs": [
        {
          "output_type": "stream",
          "name": "stdout",
          "text": [
            "Precisão média: 88.94%\n"
          ]
        }
      ]
    },
    {
      "cell_type": "code",
      "source": [
        "#Recall médio\n",
        "#cv = 10\n",
        "scoresr = cross_val_score(rf, X, y, cv = 10, scoring = 'recall_micro')\n",
        "def intervalo_prec(scores):\n",
        "    mean = scores.mean()\n",
        "    print('Recall médio: {:.2f}%'.format(mean*100))\n",
        "intervalo_prec(scoresr)"
      ],
      "metadata": {
        "id": "DSh1788dGXQ-",
        "colab": {
          "base_uri": "https://localhost:8080/"
        },
        "outputId": "68d47a21-49d2-47c3-a509-e95ab0970830"
      },
      "execution_count": null,
      "outputs": [
        {
          "output_type": "stream",
          "name": "stdout",
          "text": [
            "Recall médio: 88.94%\n"
          ]
        }
      ]
    },
    {
      "cell_type": "code",
      "source": [
        "from sklearn.metrics import confusion_matrix\n",
        "cm1=confusion_matrix(y_test, y_pred)"
      ],
      "metadata": {
        "id": "59ZTobz1BP0k"
      },
      "execution_count": null,
      "outputs": []
    },
    {
      "cell_type": "code",
      "source": [
        "#matriz de confusão\n",
        "import seaborn as sns\n",
        "sns.heatmap(cm1,annot=True, fmt=\"d\")"
      ],
      "metadata": {
        "colab": {
          "base_uri": "https://localhost:8080/",
          "height": 282
        },
        "id": "oI6cJJMvLrsA",
        "outputId": "4d46c70d-f299-498d-8fcb-eb90a6008732"
      },
      "execution_count": null,
      "outputs": [
        {
          "output_type": "execute_result",
          "data": {
            "text/plain": [
              "<Axes: >"
            ]
          },
          "metadata": {},
          "execution_count": 25
        },
        {
          "output_type": "display_data",
          "data": {
            "text/plain": [
              "<Figure size 432x288 with 2 Axes>"
            ],
            "image/png": "[encoded data removed]"
          },
          "metadata": {
            "needs_background": "light"
          }
        }
      ]
    },
    {
      "cell_type": "code",
      "source": [
        "#kappa\n",
        "from sklearn.metrics import confusion_matrix, cohen_kappa_score\n",
        "cohen_kappa_score(y_test, y_pred)"
      ],
      "metadata": {
        "colab": {
          "base_uri": "https://localhost:8080/"
        },
        "id": "jFNEapxjuiPn",
        "outputId": "2b2857dc-1c43-4f67-b74b-0dc270090d34"
      },
      "execution_count": null,
      "outputs": [
        {
          "output_type": "execute_result",
          "data": {
            "text/plain": [
              "0.8144227083680748"
            ]
          },
          "metadata": {},
          "execution_count": 26
        }
      ]
    },
    {
      "cell_type": "code",
      "source": [
        "#log_loss\n",
        "from sklearn.metrics import log_loss\n",
        "pred = rf.predict_proba(X_test)\n",
        "log_loss(y_test,pred)"
      ],
      "metadata": {
        "id": "b-GMEKC2gPMR",
        "colab": {
          "base_uri": "https://localhost:8080/"
        },
        "outputId": "f1eff753-f752-48ba-855c-458f84c9feb0"
      },
      "execution_count": null,
      "outputs": [
        {
          "output_type": "execute_result",
          "data": {
            "text/plain": [
              "0.4833539169981042"
            ]
          },
          "metadata": {},
          "execution_count": 27
        }
      ]
    },
    {
      "cell_type": "code",
      "source": [
        "#Curva auc\n",
        "from sklearn.metrics import roc_auc_score\n",
        "y_score = rf.fit(X_train, y_train).predict_proba(X_test)\n",
        "\n",
        "micro_roc_auc_ovr = roc_auc_score(\n",
        "    y_test,\n",
        "    y_score,\n",
        "    multi_class=\"ovr\",\n",
        "    average=\"micro\",\n",
        ")\n",
        "\n",
        "print(f\"Micro-averaged One-vs-Rest ROC AUC score:\\n{micro_roc_auc_ovr}\")"
      ],
      "metadata": {
        "colab": {
          "base_uri": "https://localhost:8080/"
        },
        "id": "sNRBvgaDitgD",
        "outputId": "77568c53-f12c-4d60-d1f4-04784cdd607a"
      },
      "execution_count": null,
      "outputs": [
        {
          "output_type": "stream",
          "name": "stdout",
          "text": [
            "Micro-averaged One-vs-Rest ROC AUC score:\n",
            "0.9686215831204426\n"
          ]
        }
      ]
    },
    {
      "cell_type": "code",
      "source": [
        "avcclasse = AVC['STRKBASE'].unique()"
      ],
      "metadata": {
        "id": "YFyAGyWGMegB"
      },
      "execution_count": null,
      "outputs": []
    },
    {
      "cell_type": "code",
      "source": [
        "n_classes = len(avcclasse)"
      ],
      "metadata": {
        "id": "3I8wojgOO1ZA"
      },
      "execution_count": null,
      "outputs": []
    },
    {
      "cell_type": "code",
      "source": [
        "cr = classification_report(y_test, y_pred,labels=avcclasse)\n",
        "print(cr)"
      ],
      "metadata": {
        "id": "ttsB0CWGLooC",
        "colab": {
          "base_uri": "https://localhost:8080/"
        },
        "outputId": "09437c34-0912-4775-d4ae-d4f23bdbd669"
      },
      "execution_count": null,
      "outputs": [
        {
          "output_type": "stream",
          "name": "stdout",
          "text": [
            "              precision    recall  f1-score   support\n",
            "\n",
            "           0       0.87      0.77      0.82      1417\n",
            "           1       0.88      0.93      0.90      1485\n",
            "           2       0.88      0.92      0.90      1492\n",
            "\n",
            "    accuracy                           0.88      4394\n",
            "   macro avg       0.88      0.87      0.87      4394\n",
            "weighted avg       0.88      0.88      0.87      4394\n",
            "\n"
          ]
        }
      ]
    },
    {
      "cell_type": "markdown",
      "source": [
        "**Curvas**"
      ],
      "metadata": {
        "id": "uWojsVHnfqwX"
      }
    },
    {
      "cell_type": "code",
      "source": [
        "#curva de aprendizagem\n",
        "from mlxtend.plotting import plot_learning_curves\n",
        "import matplotlib.pyplot as plt\n",
        "from mlxtend.data import mnist_data\n",
        "from mlxtend.preprocessing import shuffle_arrays_unison\n",
        "\n",
        "plot_learning_curves(X_train, y_train, X_test, y_test, rfit)\n",
        "plt.show()"
      ],
      "metadata": {
        "colab": {
          "base_uri": "https://localhost:8080/",
          "height": 415
        },
        "id": "Ys8NrffE7ksK",
        "outputId": "31963681-1a05-430f-d25c-26248d39ea3a"
      },
      "execution_count": null,
      "outputs": [
        {
          "output_type": "display_data",
          "data": {
            "text/plain": [
              "<Figure size 432x288 with 1 Axes>"
            ],
            "image/png": "[encoded data removed]"
          },
          "metadata": {}
        }
      ]
    }
  ]
}